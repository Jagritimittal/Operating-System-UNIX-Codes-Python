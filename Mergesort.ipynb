{
  "nbformat": 4,
  "nbformat_minor": 0,
  "metadata": {
    "colab": {
      "provenance": []
    },
    "kernelspec": {
      "name": "python3",
      "display_name": "Python 3"
    },
    "language_info": {
      "name": "python"
    }
  },
  "cells": [
    {
      "cell_type": "code",
      "metadata": {
        "colab": {
          "base_uri": "https://localhost:8080/"
        },
        "id": "yMdxFUlrwEFi",
        "outputId": "b307f064-6682-4c38-9060-f09fe3260ffd"
      },
      "source": [
        "%%writefile p2.cpp\n",
        "#include <stdio.h>\n",
        "#include <stdlib.h>\n",
        "#include <pthread.h>\n",
        "#include <iostream>\n",
        "using namespace std;\n",
        "\n",
        "#define N 2                                                     //storing number of threads in N\n",
        "\n",
        "int a[] = {10, 9, 8, 7, 6, 5, 4, 3, 2, 1};\n",
        "\n",
        "typedef struct Arr\n",
        "{\n",
        "    int low;\n",
        "    int high;\n",
        "} Array;\n",
        "\n",
        "void merge(int low, int high)                               //sorting algorithm and merging function\n",
        "{\n",
        "        int mid = (low+high)/2;\n",
        "        int left = low;\n",
        "        int right = mid+1;\n",
        "\n",
        "        int b[high-low+1];\n",
        "        int i, temp = 0;\n",
        "\n",
        "        while(left <= mid && right <= high)\n",
        "        {\n",
        "                if (a[left] > a[right])\n",
        "                        b[temp++] = a[right++];\n",
        "                else\n",
        "                        b[temp++] = a[right++];\n",
        "        }\n",
        "\n",
        "        while(left <= mid)\n",
        "        b[temp++] = a[left++];\n",
        "\n",
        "        while(right <= high)\n",
        "        b[temp++] = a[left++];\n",
        "\n",
        "        for (i = 0; i < (high-low+1) ; i++)\n",
        "        a[low+i] = b[i];\n",
        "}\n",
        "\n",
        "void * mergesort(void *a)                                   //function that creates threads and calls the merge function which sorts and merges the sub sets\n",
        "{\n",
        "        Array *pa = (Array *)a;\n",
        "        int mid = (pa->low + pa->high)/2;\n",
        "\n",
        "        Array aIndex[N];\n",
        "        pthread_t thread[N];\n",
        "\n",
        "        aIndex[0].low = pa->low;\n",
        "        aIndex[0].high = mid;\n",
        "\n",
        "        aIndex[1].low = mid+1;\n",
        "        aIndex[1].high = pa->high;\n",
        "\n",
        "        if (pa->low >= pa->high) return 0;\n",
        "\n",
        "        int i;\n",
        "\n",
        "        for(i = 0; i < N; i++)\n",
        "        pthread_create(&thread[i], NULL, mergesort, &aIndex[i]);    //creating a new thread with routine mergesort and only parameter as aIndex[i]\n",
        "\n",
        "        for(i = 0; i < N; i++)\n",
        "        pthread_join(thread[i], NULL);                              //ending the thread thread[i] with return status set to NULL\n",
        "\n",
        "        merge(pa->low, pa->high);\n",
        "        return 0;\n",
        "}\n",
        "\n",
        "int main()\n",
        "{\n",
        "        Array ai;                                                   //creating element ai of struct arr type\n",
        "        ai.low = 0;\n",
        "        ai.high = sizeof(a)/sizeof(a[0])-1;                         //assigning last location of the array to ai.high\n",
        "        pthread_t thread;                                           //making new thread with thread label\n",
        "\n",
        "        pthread_create(&thread, NULL, mergesort, &ai);              //creating thread with routine mergesort and only parameter ai\n",
        "        pthread_join(thread, NULL);                                 //ending the thread 'thread' and returni\n",
        "\n",
        "        int i;\n",
        "        for (i = 0; i < 10; i++)\n",
        "        cout << \"\\t\" << a[i];\n",
        "        cout << endl;\n",
        "\n",
        "        return 0;\n",
        "}"
      ],
      "execution_count": null,
      "outputs": [
        {
          "output_type": "stream",
          "name": "stdout",
          "text": [
            "Overwriting p2.cpp\n"
          ]
        }
      ]
    },
    {
      "cell_type": "code",
      "metadata": {
        "colab": {
          "base_uri": "https://localhost:8080/"
        },
        "id": "HZRPQ4EewK7K",
        "outputId": "a07445e6-ac24-45e6-eca1-f8b7ac0b080d"
      },
      "source": [
        "%%script bash\n",
        "g++ -pthread p2.cpp -o p2\n",
        "./p2"
      ],
      "execution_count": null,
      "outputs": [
        {
          "output_type": "stream",
          "name": "stdout",
          "text": [
            "\t1\t2\t3\t4\t5\t6\t17\t8\t9\t10\n"
          ]
        }
      ]
    }
  ]
}